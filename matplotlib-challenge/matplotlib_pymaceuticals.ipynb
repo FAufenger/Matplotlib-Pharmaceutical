{
 "cells": [
  {
   "cell_type": "markdown",
   "metadata": {},
   "source": [
    "## Observations and Insights \n",
    "\n",
    "#1. The correlation coefficent for mouse weight and average tumor volume for the Capomulin regimen is 0.842. This is a strong positve correlation, revealing the strong relationship between weight and tumor volume. As weight increases it is highy likely that tumor volume will increase as well.\n",
    "\n",
    "#2.\n",
    "\n",
    "#3.\n"
   ]
  },
  {
   "cell_type": "code",
   "execution_count": null,
   "metadata": {},
   "outputs": [],
   "source": [
    "# Dependencies and Setup\n",
    "import matplotlib.pyplot as plt\n",
    "import pandas as pd\n",
    "from scipy import stats\n",
    "import numpy as np\n",
    "import seaborn as sns\n",
    "\n",
    "# Study data files\n",
    "mouse_metadata_path = \"data/Mouse_metadata.csv\"\n",
    "study_results_path = \"data/Study_results.csv\"\n",
    "\n",
    "# Read the mouse data and the study results\n",
    "mouse_metadata = pd.read_csv(mouse_metadata_path)\n",
    "study_results = pd.read_csv(study_results_path)\n",
    "\n",
    "# Combine the data into a single dataset\n",
    "combined_mouse_data = pd.merge(mouse_metadata, study_results, on=\"Mouse ID\")\n",
    "\n",
    "# Display the data table for preview\n",
    "combined_mouse_data.head()\n",
    "\n",
    "## Observations and Insights \n",
    "#The two files merged together nicely and with out column repeats. Can make Mouse ID the idnex to \n",
    "#better view and sort data"
   ]
  },
  {
   "cell_type": "code",
   "execution_count": null,
   "metadata": {},
   "outputs": [],
   "source": [
    "# Checking the number of mice.\n",
    "num_mice1 = combined_mouse_data[\"Mouse ID\"].value_counts()\n",
    "total_mice1 = len(num_mice1)\n",
    "print(f\"Total number of unique mice: {total_mice1}\")\n",
    "\n",
    "total_entries1 = combined_mouse_data[\"Mouse ID\"].count()\n",
    "total_entries1\n",
    "print(f\"Total number of unique data entries: {total_entries1}\")"
   ]
  },
  {
   "cell_type": "code",
   "execution_count": null,
   "metadata": {
    "scrolled": true
   },
   "outputs": [],
   "source": [
    "# Getting the duplicate mice by ID number that shows up for Mouse ID and Timepoint. \n",
    "\n",
    "duplicated_data_info = combined_mouse_data.loc[combined_mouse_data.duplicated(subset=['Mouse ID', 'Timepoint']), 'Mouse ID'].unique()\n",
    "duplicated_mouse_info = pd.DataFrame(duplicated_data_info)\n",
    "duplicated_mouse_info\n",
    "\n"
   ]
  },
  {
   "cell_type": "code",
   "execution_count": null,
   "metadata": {},
   "outputs": [],
   "source": [
    "# Optional: Get all the data for the duplicate mouse ID. \n",
    "combined_mouse_data_altered_index = combined_mouse_data.copy()\n",
    "combined_mouse_data_altered_index = combined_mouse_data_altered_index.set_index(\"Mouse ID\")\n",
    "all_duplicate_data = combined_mouse_data_altered_index.loc[['g989']]\n",
    "all_duplicate_data\n"
   ]
  },
  {
   "cell_type": "code",
   "execution_count": null,
   "metadata": {},
   "outputs": [],
   "source": [
    "# Create a clean DataFrame by dropping the duplicate mouse by its ID.\n",
    "\n",
    "cleaned_mouse_data = combined_mouse_data[combined_mouse_data['Mouse ID'].isin(duplicated_data_info) == False]\n",
    "cleaned_mouse_data.head()"
   ]
  },
  {
   "cell_type": "code",
   "execution_count": null,
   "metadata": {},
   "outputs": [],
   "source": [
    "# Checking the number of mice in the clean DataFrame.\n",
    "\n",
    "num_mice2 = cleaned_mouse_data[\"Mouse ID\"].value_counts()\n",
    "total_mice2 = len(num_mice2)\n",
    "print(f\"Total number of unique mice: {total_mice2}\")\n",
    "\n",
    "total_entries2 = cleaned_mouse_data[\"Mouse ID\"].count()\n",
    "total_entries2\n",
    "print(f\"Total number of unique data entries: {total_entries2}\")"
   ]
  },
  {
   "cell_type": "markdown",
   "metadata": {},
   "source": [
    "## Summary Statistics"
   ]
  },
  {
   "cell_type": "code",
   "execution_count": null,
   "metadata": {},
   "outputs": [],
   "source": [
    "# Generate a summary statistics table of mean, median, variance, standard deviation, and SEM of the tumor volume for each regimen\n",
    "# Use groupby and summary statistical methods to calculate the following properties of each drug regimen: \n",
    "# mean, median, variance, standard deviation, and SEM of the tumor volume. \n",
    "# Assemble the resulting series into a single summary dataframe.\n",
    "\n",
    "summary_df = cleaned_mouse_data.groupby(\"Drug Regimen\")\n",
    "summary_data = summary_df[\"Tumor Volume (mm3)\"]\n",
    "\n",
    "summary_mean = summary_data.mean().round(3)\n",
    "summary_median = summary_data.median().round(3)\n",
    "summary_variance = summary_data.var().round(3)\n",
    "summary_std = summary_data.std().round(3)\n",
    "summary_sem = summary_data.sem().round(3)\n",
    "\n",
    "summary_stats_df = pd.DataFrame({\"Average\": summary_mean,\n",
    "                                \"Median\": summary_median,\n",
    "                                 \"Variance\": summary_variance,\n",
    "                                \"Standard Deviation\": summary_std,\n",
    "                                \"SEM\": summary_sem}) \n",
    "\n",
    "summary_stats_df"
   ]
  },
  {
   "cell_type": "code",
   "execution_count": null,
   "metadata": {},
   "outputs": [],
   "source": [
    "# Generate a summary statistics table of mean, median, variance, standard deviation, and SEM of the tumor volume for each regimen\n",
    "# Using the aggregation method, produce the same summary statistics in a single line\n",
    "\n",
    "summary_stats2_df = (cleaned_mouse_data.groupby(['Drug Regimen'])[\"Tumor Volume (mm3)\"]\n",
    "                 .agg([('Average','mean'),('Median','median'),('Variance', 'var'), \n",
    "                       ('Standard Deviation', 'std'), ('SEM', 'sem')])).round(3)\n",
    "summary_stats2_df"
   ]
  },
  {
   "cell_type": "markdown",
   "metadata": {},
   "source": [
    "## Bar and Pie Charts"
   ]
  },
  {
   "cell_type": "code",
   "execution_count": null,
   "metadata": {},
   "outputs": [],
   "source": [
    "# Generate a bar plot showing the total number of measurements taken on each drug regimen using pandas.\n",
    "\n",
    "sorted_df = cleaned_mouse_data[\"Drug Regimen\"].value_counts()\n",
    "sorted_df = pd.DataFrame(sorted_df).sort_index()\n",
    "\n",
    "sorted_df.plot(kind = 'bar', rot=45, color='maroon', width = 0.4, legend=False)\n",
    "plt.ylim(0,250)\n",
    "plt.xlabel(\"Drug Regimen\") \n",
    "plt.ylabel(\"Number of Measurements Taken\") \n",
    "plt.title(\"Total Count of Drug Regimen\") \n",
    "\n",
    "plt.show()"
   ]
  },
  {
   "cell_type": "code",
   "execution_count": null,
   "metadata": {},
   "outputs": [],
   "source": [
    "# Generate a bar plot showing the total number of measurements taken on each drug regimen using pyplot.\n",
    "\n",
    "summary_stats3_df = (cleaned_mouse_data.groupby(['Drug Regimen'])[\"Mouse ID\"]\n",
    "                 .agg([('Total','count')])).reset_index()\n",
    "\n",
    "drug_regimen = summary_stats3_df['Drug Regimen'] \n",
    "measurements_taken = summary_stats3_df['Total'] \n",
    "   \n",
    "fig = plt.figure(figsize = (7, 5)) \n",
    "  \n",
    "plt.bar(drug_regimen, measurements_taken, color ='maroon', width = 0.4)\n",
    "\n",
    "plt.ylim(0,250)\n",
    "plt.xticks(rotation=45)  \n",
    "plt.xlabel(\"Drug Regimen\") \n",
    "plt.ylabel(\"Number of Measurements Taken\") \n",
    "plt.title(\"Total Counts of Drug Regimen\") \n",
    "\n",
    "plt.show() "
   ]
  },
  {
   "cell_type": "code",
   "execution_count": null,
   "metadata": {},
   "outputs": [],
   "source": [
    "# Generate a pie plot showing the distribution of female versus male mice using pandas\n",
    "\n",
    "cleaned_mouse_data[\"Sex\"].value_counts().plot(kind='pie',startangle=120,\n",
    "    autopct='%1.1f%%', shadow=True, legend = False, fontsize=14, explode=(0,.05), title = \"Sex of the Mice\")\n",
    "\n",
    "plt.axis('equal')\n",
    "plt.show()"
   ]
  },
  {
   "cell_type": "code",
   "execution_count": null,
   "metadata": {},
   "outputs": [],
   "source": [
    "# Generate a pie plot showing the distribution of female versus male mice using pyplot\n",
    "\n",
    "counts = cleaned_mouse_data['Sex'].value_counts()\n",
    "    \n",
    "plt.pie(counts.values , labels=counts.index.values, \n",
    "       shadow=True, explode=(0,0.05), startangle=120, autopct='%1.1f%%')\n",
    "\n",
    "plt.ylabel(\"Sex\")\n",
    "plt.title(\"Sex of the Mice\")\n",
    "plt.axis('equal')\n",
    "plt.tight_layout()\n",
    "plt.show()\n"
   ]
  },
  {
   "cell_type": "markdown",
   "metadata": {},
   "source": [
    "## Quartiles, Outliers and Boxplots"
   ]
  },
  {
   "cell_type": "code",
   "execution_count": null,
   "metadata": {},
   "outputs": [],
   "source": [
    "# Calculate the final tumor volume of each mouse across four of the treatment regimens:  \n",
    "# Capomulin, Ramicane, Infubinol, and Ceftamin\n",
    "\n",
    "# Start by getting the last (greatest) timepoint for each mouse\n",
    "\n",
    "#sorted_clean_mouse_data = cleaned_mouse_data[cleaned_mouse_data['Drug Regimen'].isin([\"Capomulin\", \"Ramicane\", \"Infubinol\", \"Ceftamin\"])\n",
    "\n",
    "max_tumor = cleaned_mouse_data.groupby(['Mouse ID'])['Timepoint'].max().reset_index()\n",
    "\n",
    "# Merge this group df with the original dataframe to get the tumor volume at the last timepoint\n",
    "max_tumor_merge= pd.merge(max_tumor, cleaned_mouse_data, on=['Mouse ID', 'Timepoint'], how='left')\n",
    "\n",
    "#display df\n",
    "max_tumor_merge.head()\n",
    "                                             "
   ]
  },
  {
   "cell_type": "code",
   "execution_count": null,
   "metadata": {},
   "outputs": [],
   "source": [
    "# Put treatments into a list for for loop (and later for plot labels)\n",
    "treatment_list = [\"Capomulin\", \"Ramicane\", \"Infubinol\", \"Ceftamin\"]\n",
    "\n",
    "# Create empty list to fill with tumor vol data (for plotting)\n",
    "tumor_vol_data = []\n",
    "\n",
    "\n",
    "\n",
    "for drug in treatment_list:\n",
    "    final_tumor_numbers = max_tumor_merge.loc[max_tumor_merge[\"Drug Regimen\"] == drug, 'Tumor Volume (mm3)']\n",
    "    tumor_vol_data.append[final_tumor_numbers]\n",
    "    \n",
    "    \n",
    "# Calculate the IQR and quantitatively determine if there are any potential outliers. \n",
    "    # Locate the rows which contain mice on each drug and get the tumor volumes\n",
    "    # add subset \n",
    "    # Determine outliers using upper and lower bounds\n",
    "    \n",
    "    \n",
    "quartiles = final_tumor_numbers.quantile([0.25,0.5,0.75])\n",
    "lowerq = (quartiles[0.25]).round(3)\n",
    "middleq = (quartiles[0.5]).round(3)\n",
    "upperq = (quartiles[0.75]).round(3)\n",
    "iqr = (upperq - lowerq).round(3)\n",
    "\n",
    "\n",
    "print(f\"The lower quartile of tumor volume (mm3) is: {lowerq}\")\n",
    "print(f\"The upper quartile of tumor volume (mm3) is: {upperq}\")\n",
    "print(f\"The interquartile range of tumor volume (mm3) is: {iqr}\")\n",
    "print(f\"The the median of tumor volume (mm3) is: {middleq} \")\n",
    "\n",
    "lower_bound = (lowerq - (1.5*iqr)).round(3)\n",
    "upper_bound = (upperq + (1.5*iqr)).round(3)\n",
    "print(f\"Values below {lower_bound} could be outliers\")\n",
    "print(f\"Values above {upper_bound} could be outliers\")"
   ]
  },
  {
   "cell_type": "code",
   "execution_count": null,
   "metadata": {},
   "outputs": [],
   "source": [
    "# Generate a box plot of the final tumor volume of each mouse across four regimens of interest\n",
    "\n",
    "fig1, ax1 = plt.subplots(figsize=(15, 15))\n",
    "sns.boxplot(x= 'Drug Regimen', y='Tumor Volume (mm3)', data = max_tumor_merge)\n",
    "\n",
    "\n",
    "#ax1.set_title('Tumor Volume at Selected Mouse')\n",
    "#ax1.set_ylabel('Final Tumor Volume (mm3)')\n",
    "#ax1.set_xlabel('Drug Regimen')\n",
    "#ax1.boxplot(max_tumor_merge, labels = treatment_list)\n",
    "\n",
    "plt.show()"
   ]
  },
  {
   "cell_type": "markdown",
   "metadata": {},
   "source": [
    "## Line and Scatter Plots"
   ]
  },
  {
   "cell_type": "code",
   "execution_count": null,
   "metadata": {},
   "outputs": [],
   "source": [
    "# Generate a line plot of tumor volume vs. time point for a mouse treated with Capomulin\n",
    "\n",
    "capomulin_mouse_v923_df = cleaned_mouse_data.loc[cleaned_mouse_data['Mouse ID'] == 'v923',:]\n",
    "\n",
    "x_axis = capomulin_mouse_v923_df[\"Timepoint\"]\n",
    "y_axis = capomulin_mouse_v923_df[\"Tumor Volume (mm3)\"]\n",
    "\n",
    "fig1, ax1 = plt.subplots(figsize=(15, 10))\n",
    "plt.title('Capomulin treatmeant of mouse v923', fontsize = 24)\n",
    "plt.plot(x_axis, y_axis, linewidth = 2, markersize = 10, marker = \"o\", color = \"green\")\n",
    "plt.xlabel('Time Point', fontsize =18)\n",
    "plt.ylabel('Tumor Volume (mm3)', fontsize =18)\n",
    "\n",
    "plt.show()"
   ]
  },
  {
   "cell_type": "code",
   "execution_count": null,
   "metadata": {},
   "outputs": [],
   "source": [
    "# Generate a scatter plot of avgerage_capomilin_volume for the Capomulin regimen\n",
    "capomulin_mice_df = cleaned_mouse_data.loc[cleaned_mouse_data['Drug Regimen'] == 'Capomulin',:]\n",
    "avgerage_capomilin_volume = capomulin_mice_df.groupby(['Mouse ID']).mean()\n",
    "\n",
    "plt.figure(figsize=(6,6))\n",
    "plt.scatter(avgerage_capomilin_volume['Weight (g)'], avgerage_capomilin_volume['Tumor Volume (mm3)'], color=\"green\")\n",
    "plt.title('Average Tumor Volume Vs Mouse Weight',fontsize =24)\n",
    "plt.xlabel('Weight (g)',fontsize =14)\n",
    "plt.ylabel('Average Tumor Volume (mm3)',fontsize =14)\n",
    "plt.tick_params(labelsize=12)\n",
    "\n",
    "plt.show()"
   ]
  },
  {
   "cell_type": "markdown",
   "metadata": {},
   "source": [
    "## Correlation and Regression"
   ]
  },
  {
   "cell_type": "code",
   "execution_count": null,
   "metadata": {},
   "outputs": [],
   "source": [
    "# Calculate the correlation coefficient for mouse weight and average tumor volume for the Capomulin regimen\n",
    "capomulin_mice_df = cleaned_mouse_data.loc[cleaned_mouse_data['Drug Regimen'] == 'Capomulin',:]\n",
    "\n",
    "correlation_coeff = round(avgerage_capomilin_volume['Weight (g)'].corr(avgerage_capomilin_volume['Tumor Volume (mm3)']), 3)\n",
    "print(f\"The correlation coeddicient between mouse weight and average tumor volume is {correlation_coeff} for the Capomulin regimen\")\n"
   ]
  },
  {
   "cell_type": "code",
   "execution_count": null,
   "metadata": {},
   "outputs": [],
   "source": [
    "# Calculate the linear regression model for mouse weight and average tumor volume for the Capomulin regimen\n",
    "\n",
    "x_values = avgerage_capomilin_volume['Weight (g)']\n",
    "y_values = avgerage_capomilin_volume['Tumor Volume (mm3)']\n",
    "(slope, intercept, rvalue, pvalue, stderr) = stats.linregress(x_values, y_values)\n",
    "regress_values = x_values * slope + intercept\n",
    "line_eq = \"y = \" + str(round(slope,2)) + \"x + \" + str(round(intercept,2))\n",
    "\n",
    "plt.figure(figsize=(6,6))\n",
    "plt.scatter(x_values,y_values, color='blue')\n",
    "plt.plot(x_values,regress_values,\"r-\")\n",
    "\n",
    "plt.title('Average Tumor Volume Vs Mouse Weight',fontsize =20)\n",
    "plt.xlabel('Weight (g)',fontsize =14)\n",
    "plt.ylabel('Average Tumor Volume (mm3)',fontsize =14)\n",
    "plt.tick_params(labelsize=12)\n",
    "\n",
    "print(f\"The r-squared is: {rvalue**2}\")\n",
    "print(f\"Slope of the regression line: {line_eq}\")\n",
    "plt.show()"
   ]
  },
  {
   "cell_type": "code",
   "execution_count": null,
   "metadata": {},
   "outputs": [],
   "source": []
  }
 ],
 "metadata": {
  "kernelspec": {
   "display_name": "Python [conda env:PythonData] *",
   "language": "python",
   "name": "conda-env-PythonData-py"
  },
  "language_info": {
   "codemirror_mode": {
    "name": "ipython",
    "version": 3
   },
   "file_extension": ".py",
   "mimetype": "text/x-python",
   "name": "python",
   "nbconvert_exporter": "python",
   "pygments_lexer": "ipython3",
   "version": "3.6.10"
  }
 },
 "nbformat": 4,
 "nbformat_minor": 4
}
